{
 "cells": [
  {
   "cell_type": "code",
   "execution_count": 5,
   "id": "9915583d",
   "metadata": {},
   "outputs": [],
   "source": [
    "import cv2\n",
    "from fer import FER"
   ]
  },
  {
   "cell_type": "code",
   "execution_count": 6,
   "id": "79941afe",
   "metadata": {},
   "outputs": [],
   "source": [
    "camera = cv2.VideoCapture(0)\n",
    "\n",
    "while True:\n",
    "    \n",
    "    _ , img = camera.read()\n",
    "    img = cv2.flip(img, 1)\n",
    "           \n",
    "    emotion_detector = FER()\n",
    "    result = emotion_detector.detect_emotions(img)\n",
    "    \n",
    "    try:\n",
    "        box = result[0][\"box\"]\n",
    "        cv2.rectangle(img,(box[0],box[1]),(box[0]+box[2],box[1]+box[3]),(255,200,200),2)\n",
    "        \n",
    "        emotions = result[0][\"emotions\"]\n",
    "        emotion_name, score = emotion_detector.top_emotion(img)\n",
    "        \n",
    "        cv2.putText(img,emotion_name,(box[0],box[1]+box[3]+30),\n",
    "                   cv2.FONT_HERSHEY_SIMPLEX,0.7,(255,200,200),1)\n",
    "   \n",
    "    except:\n",
    "        error = \"Face Not Recognised\"\n",
    "        cv2.putText(img,error,(box[0], box[1]+box[3]+30 ),\n",
    "                   cv2.FONT_HERSHEY_SIMPLEX,0.7,(0,0,255),1)\n",
    "        \n",
    "    cv2.imshow('Emotion Detection',img)\n",
    "    \n",
    "    key = cv2.waitKey(10)\n",
    "    \n",
    "    if(key == 27):\n",
    "        break\n",
    "    \n",
    "camera.release()\n",
    "cv2.destroyAllWindows()"
   ]
  },
  {
   "cell_type": "code",
   "execution_count": null,
   "id": "badbcecb",
   "metadata": {},
   "outputs": [],
   "source": []
  }
 ],
 "metadata": {
  "kernelspec": {
   "display_name": "Python 3 (ipykernel)",
   "language": "python",
   "name": "python3"
  },
  "language_info": {
   "codemirror_mode": {
    "name": "ipython",
    "version": 3
   },
   "file_extension": ".py",
   "mimetype": "text/x-python",
   "name": "python",
   "nbconvert_exporter": "python",
   "pygments_lexer": "ipython3",
   "version": "3.9.7"
  }
 },
 "nbformat": 4,
 "nbformat_minor": 5
}
